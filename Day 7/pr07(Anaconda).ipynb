{
 "cells": [
  {
   "cell_type": "code",
   "execution_count": 1,
   "id": "061893a6",
   "metadata": {},
   "outputs": [
    {
     "data": {
      "text/plain": [
       "7"
      ]
     },
     "execution_count": 1,
     "metadata": {},
     "output_type": "execute_result"
    }
   ],
   "source": [
    "3+4"
   ]
  },
  {
   "cell_type": "code",
   "execution_count": 3,
   "id": "9af85e70",
   "metadata": {},
   "outputs": [
    {
     "name": "stdout",
     "output_type": "stream",
     "text": [
      "Hello World\n"
     ]
    }
   ],
   "source": [
    "print(\"Hello World\")"
   ]
  },
  {
   "cell_type": "markdown",
   "id": "91813551",
   "metadata": {},
   "source": [
    "# 1st Heading"
   ]
  },
  {
   "cell_type": "markdown",
   "id": "f9b67c36",
   "metadata": {},
   "source": [
    "## 2nd Heading"
   ]
  },
  {
   "cell_type": "markdown",
   "id": "7f736c8e",
   "metadata": {},
   "source": [
    "### sub heading"
   ]
  },
  {
   "cell_type": "markdown",
   "id": "e8f5d6ae",
   "metadata": {},
   "source": [
    "* this is 1st point.\n",
    "* this is 2nd point."
   ]
  },
  {
   "cell_type": "markdown",
   "id": "5dc47339",
   "metadata": {},
   "source": [
    "1. This is 3rd point.\n",
    "2. This is 4th point."
   ]
  },
  {
   "cell_type": "code",
   "execution_count": 4,
   "id": "4139bf09",
   "metadata": {},
   "outputs": [],
   "source": [
    "import os"
   ]
  },
  {
   "cell_type": "code",
   "execution_count": 5,
   "id": "f9b3b191",
   "metadata": {},
   "outputs": [
    {
     "data": {
      "text/plain": [
       "'C:\\\\Users\\\\lomaj\\\\Desktop\\\\ML Training(2022)\\\\Day 7'"
      ]
     },
     "execution_count": 5,
     "metadata": {},
     "output_type": "execute_result"
    }
   ],
   "source": [
    "os.getcwd()#gives current directory"
   ]
  },
  {
   "cell_type": "code",
   "execution_count": 6,
   "id": "2f171edc",
   "metadata": {},
   "outputs": [
    {
     "data": {
      "text/plain": [
       "['.ipynb_checkpoints', 'pr07(Anaconda).ipynb']"
      ]
     },
     "execution_count": 6,
     "metadata": {},
     "output_type": "execute_result"
    }
   ],
   "source": [
    "os.listdir('C:\\\\Users\\\\lomaj\\\\Desktop\\\\ML Training(2022)\\\\Day 7')#gives what is there in the directory"
   ]
  },
  {
   "cell_type": "code",
   "execution_count": 8,
   "id": "9d4d4321",
   "metadata": {},
   "outputs": [],
   "source": [
    "os.chdir('C:\\\\Users\\\\lomaj\\\\Desktop\\\\ML Training(2022)\\\\Day 6')#changes directory(i.e Day 7 to Day 6)"
   ]
  },
  {
   "cell_type": "code",
   "execution_count": 9,
   "id": "bbafcf02",
   "metadata": {},
   "outputs": [
    {
     "data": {
      "text/plain": [
       "'C:\\\\Users\\\\lomaj\\\\Desktop\\\\ML Training(2022)\\\\Day 6'"
      ]
     },
     "execution_count": 9,
     "metadata": {},
     "output_type": "execute_result"
    }
   ],
   "source": [
    "os.getcwd()"
   ]
  },
  {
   "cell_type": "code",
   "execution_count": 10,
   "id": "70cdcb27",
   "metadata": {},
   "outputs": [
    {
     "data": {
      "text/plain": [
       "['Modules.txt', 'pr06.py']"
      ]
     },
     "execution_count": 10,
     "metadata": {},
     "output_type": "execute_result"
    }
   ],
   "source": [
    "os.listdir('C:\\\\Users\\\\lomaj\\\\Desktop\\\\ML Training(2022)\\\\Day 6')"
   ]
  },
  {
   "cell_type": "code",
   "execution_count": 11,
   "id": "bf1c7a85",
   "metadata": {},
   "outputs": [
    {
     "data": {
      "text/plain": [
       "['.ipynb_checkpoints',\n",
       " 'Day 1',\n",
       " 'Day 2',\n",
       " 'Day 3',\n",
       " 'Day 4',\n",
       " 'Day 5',\n",
       " 'Day 6',\n",
       " 'Day 7',\n",
       " 'Day 9']"
      ]
     },
     "execution_count": 11,
     "metadata": {},
     "output_type": "execute_result"
    }
   ],
   "source": [
    "os.listdir('C:\\\\Users\\\\lomaj\\\\Desktop\\\\ML Training(2022)\\\\')"
   ]
  },
  {
   "cell_type": "code",
   "execution_count": 12,
   "id": "eb2079d5",
   "metadata": {},
   "outputs": [],
   "source": [
    "os.mkdir('Empty_folder')#creates a folder in the last accessed directory"
   ]
  },
  {
   "cell_type": "code",
   "execution_count": 13,
   "id": "ad24b70c",
   "metadata": {},
   "outputs": [],
   "source": [
    "os.rmdir('Empty_folder')#removes the folder from the accesssed directory"
   ]
  },
  {
   "cell_type": "markdown",
   "id": "9aff9836",
   "metadata": {},
   "source": [
    "# Random"
   ]
  },
  {
   "cell_type": "code",
   "execution_count": 15,
   "id": "cab19d2b",
   "metadata": {},
   "outputs": [],
   "source": [
    "import random"
   ]
  },
  {
   "cell_type": "code",
   "execution_count": 16,
   "id": "4b250a31",
   "metadata": {},
   "outputs": [],
   "source": [
    "val=random.random()#gives random value"
   ]
  },
  {
   "cell_type": "code",
   "execution_count": 17,
   "id": "f5ff3fe7",
   "metadata": {},
   "outputs": [
    {
     "name": "stdout",
     "output_type": "stream",
     "text": [
      "0.9214188630566457\n"
     ]
    }
   ],
   "source": [
    "print(val)"
   ]
  },
  {
   "cell_type": "code",
   "execution_count": 18,
   "id": "46454fbe",
   "metadata": {},
   "outputs": [
    {
     "name": "stdout",
     "output_type": "stream",
     "text": [
      "7\n"
     ]
    }
   ],
   "source": [
    "val2=random.randint(1,10)\n",
    "print(val2)               #gives random integer value in the given range"
   ]
  },
  {
   "cell_type": "code",
   "execution_count": 19,
   "id": "514b542e",
   "metadata": {},
   "outputs": [
    {
     "name": "stdout",
     "output_type": "stream",
     "text": [
      "hi\n"
     ]
    }
   ],
   "source": [
    "m=['hi','hello','hayy','howdy']\n",
    "val=random.choice(m)\n",
    "print(val)"
   ]
  },
  {
   "cell_type": "code",
   "execution_count": 21,
   "id": "22ebed2c",
   "metadata": {},
   "outputs": [
    {
     "name": "stdout",
     "output_type": "stream",
     "text": [
      "['hi', 'hello', 'hayy']\n"
     ]
    }
   ],
   "source": [
    "m=['hi','hello','hayy','howdy']\n",
    "val=random.choices(m,k=3)\n",
    "print(val)"
   ]
  },
  {
   "cell_type": "code",
   "execution_count": 22,
   "id": "e29e2536",
   "metadata": {},
   "outputs": [
    {
     "name": "stdout",
     "output_type": "stream",
     "text": [
      "['hi', 'hayy', 'hello', 'howdy']\n"
     ]
    }
   ],
   "source": [
    "#shuffle\n",
    "random.shuffle(m)\n",
    "print(m)"
   ]
  },
  {
   "cell_type": "code",
   "execution_count": null,
   "id": "74e647e0",
   "metadata": {},
   "outputs": [],
   "source": []
  }
 ],
 "metadata": {
  "kernelspec": {
   "display_name": "Python 3 (ipykernel)",
   "language": "python",
   "name": "python3"
  },
  "language_info": {
   "codemirror_mode": {
    "name": "ipython",
    "version": 3
   },
   "file_extension": ".py",
   "mimetype": "text/x-python",
   "name": "python",
   "nbconvert_exporter": "python",
   "pygments_lexer": "ipython3",
   "version": "3.9.12"
  }
 },
 "nbformat": 4,
 "nbformat_minor": 5
}
